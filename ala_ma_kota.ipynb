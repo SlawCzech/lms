{
 "cells": [
  {
   "cell_type": "code",
   "execution_count": 1,
   "id": "805d1de6-a628-4c5e-8c89-942ba7ab9074",
   "metadata": {},
   "outputs": [
    {
     "data": {
      "text/plain": [
       "'ala ma kota'"
      ]
     },
     "execution_count": 1,
     "metadata": {},
     "output_type": "execute_result"
    }
   ],
   "source": [
    "s = \"ala ma kota\"\n",
    "s"
   ]
  },
  {
   "cell_type": "code",
   "execution_count": 2,
   "id": "c98341c8-386e-48cb-8e7d-5c98f573092f",
   "metadata": {},
   "outputs": [
    {
     "data": {
      "text/plain": [
       "'Ala ma kota'"
      ]
     },
     "execution_count": 2,
     "metadata": {},
     "output_type": "execute_result"
    }
   ],
   "source": [
    "s.capitalize()"
   ]
  },
  {
   "cell_type": "code",
   "execution_count": 3,
   "id": "0f868c21-bad5-46d2-a22f-415c920a3173",
   "metadata": {},
   "outputs": [
    {
     "data": {
      "text/plain": [
       "'Ala Ma Kota'"
      ]
     },
     "execution_count": 3,
     "metadata": {},
     "output_type": "execute_result"
    }
   ],
   "source": [
    "s.title()"
   ]
  },
  {
   "cell_type": "code",
   "execution_count": 4,
   "id": "473d3bc9-3025-40f1-b0e8-dfd12e9edfcf",
   "metadata": {},
   "outputs": [
    {
     "data": {
      "text/plain": [
       "'ALA MA KOTA'"
      ]
     },
     "execution_count": 4,
     "metadata": {},
     "output_type": "execute_result"
    }
   ],
   "source": [
    "s.upper()"
   ]
  },
  {
   "cell_type": "code",
   "execution_count": 5,
   "id": "6406b355-ff20-42a4-9291-8c9bbf45401f",
   "metadata": {},
   "outputs": [
    {
     "data": {
      "text/plain": [
       "'ala ma kota'"
      ]
     },
     "execution_count": 5,
     "metadata": {},
     "output_type": "execute_result"
    }
   ],
   "source": [
    "s.lower()"
   ]
  },
  {
   "cell_type": "code",
   "execution_count": 6,
   "id": "b1980829-76a8-4585-9c62-981d0d1017a4",
   "metadata": {},
   "outputs": [],
   "source": [
    "s += \" i wszy\""
   ]
  },
  {
   "cell_type": "code",
   "execution_count": 7,
   "id": "cfed3db9-4927-42c6-890c-e9549ebc9279",
   "metadata": {},
   "outputs": [
    {
     "data": {
      "text/plain": [
       "'ala ma kota i wszy'"
      ]
     },
     "execution_count": 7,
     "metadata": {},
     "output_type": "execute_result"
    }
   ],
   "source": [
    "s"
   ]
  },
  {
   "cell_type": "code",
   "execution_count": 8,
   "id": "58cfeb9e-887b-46a1-896e-5923daf17b71",
   "metadata": {},
   "outputs": [
    {
     "data": {
      "text/plain": [
       "'ala ma kota i 2 wszy'"
      ]
     },
     "execution_count": 8,
     "metadata": {},
     "output_type": "execute_result"
    }
   ],
   "source": [
    "s = s.replace('i wszy', 'i 2 wszy')\n",
    "s"
   ]
  },
  {
   "cell_type": "code",
   "execution_count": 9,
   "id": "26e878d4-4b31-4535-a693-64dbcbcae623",
   "metadata": {},
   "outputs": [
    {
     "data": {
      "text/plain": [
       "'roman ma kota i 2 wszy'"
      ]
     },
     "execution_count": 9,
     "metadata": {},
     "output_type": "execute_result"
    }
   ],
   "source": [
    "s = s.replace('ala', 'roman')\n",
    "s"
   ]
  },
  {
   "cell_type": "code",
   "execution_count": 10,
   "id": "7ebfd9be-bca0-40e5-af6f-264e69837a78",
   "metadata": {},
   "outputs": [
    {
     "data": {
      "text/plain": [
       "['roman', 'ma', 'kota', 'i', '2', 'wszy']"
      ]
     },
     "execution_count": 10,
     "metadata": {},
     "output_type": "execute_result"
    }
   ],
   "source": [
    "l = s.split()\n",
    "l"
   ]
  },
  {
   "cell_type": "code",
   "execution_count": 11,
   "id": "81b13dc6-0a10-406c-ba9a-789b12ec344a",
   "metadata": {},
   "outputs": [
    {
     "data": {
      "text/plain": [
       "['roman', 'ma', 'kota', 'i', '2', 'wszy']"
      ]
     },
     "execution_count": 11,
     "metadata": {},
     "output_type": "execute_result"
    }
   ],
   "source": [
    "[word for word in l]"
   ]
  },
  {
   "cell_type": "code",
   "execution_count": 13,
   "id": "91d7aba9-81b5-47a3-90b7-bff596e68d2b",
   "metadata": {},
   "outputs": [],
   "source": [
    "# ternary operator (operator trójargumentowy)\n",
    "# True if condition else False"
   ]
  },
  {
   "cell_type": "code",
   "execution_count": 14,
   "id": "b0ff8e0d-e5ce-437e-b407-1962bf9fff25",
   "metadata": {},
   "outputs": [
    {
     "data": {
      "text/plain": [
       "'magic'"
      ]
     },
     "execution_count": 14,
     "metadata": {},
     "output_type": "execute_result"
    }
   ],
   "source": [
    "42 if 1>2 else 'magic'"
   ]
  },
  {
   "cell_type": "code",
   "execution_count": 17,
   "id": "f873b864-aeee-46fc-aad3-1b04a9bd794c",
   "metadata": {},
   "outputs": [],
   "source": [
    "l = [int(word) if word.isdigit() else word for word in l]"
   ]
  },
  {
   "cell_type": "code",
   "execution_count": 18,
   "id": "f2a41d37-5605-4ba3-b7f6-f79a1f4fe466",
   "metadata": {},
   "outputs": [
    {
     "data": {
      "text/plain": [
       "['roman', 'ma', 'kota', 'i', 2, 'wszy']"
      ]
     },
     "execution_count": 18,
     "metadata": {},
     "output_type": "execute_result"
    }
   ],
   "source": [
    "l"
   ]
  },
  {
   "cell_type": "code",
   "execution_count": 21,
   "id": "ed4c59a2-d805-46ca-9cc4-be9cb9c92b8e",
   "metadata": {},
   "outputs": [
    {
     "data": {
      "text/plain": [
       "'roman ma kota i 2 wszy'"
      ]
     },
     "execution_count": 21,
     "metadata": {},
     "output_type": "execute_result"
    }
   ],
   "source": [
    "\" \".join([str(word) for word in l])"
   ]
  },
  {
   "cell_type": "code",
   "execution_count": null,
   "id": "9ee81dca-4df8-4e3d-ade3-6fd4b9242000",
   "metadata": {},
   "outputs": [],
   "source": []
  }
 ],
 "metadata": {
  "kernelspec": {
   "display_name": "Python 3 (ipykernel)",
   "language": "python",
   "name": "python3"
  },
  "language_info": {
   "codemirror_mode": {
    "name": "ipython",
    "version": 3
   },
   "file_extension": ".py",
   "mimetype": "text/x-python",
   "name": "python",
   "nbconvert_exporter": "python",
   "pygments_lexer": "ipython3",
   "version": "3.8.10"
  }
 },
 "nbformat": 4,
 "nbformat_minor": 5
}
