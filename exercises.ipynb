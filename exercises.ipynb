{
 "cells": [
  {
   "cell_type": "markdown",
   "id": "8b636fc0-a7ef-4b7e-8ea5-905d1e0f4016",
   "metadata": {
    "tags": []
   },
   "source": [
    "# REPL - read, evaluate, print, loop"
   ]
  },
  {
   "cell_type": "code",
   "execution_count": 1,
   "id": "146d2794-d6fa-406d-89b0-ffec193d6b23",
   "metadata": {},
   "outputs": [],
   "source": [
    "sentence = \"ala ma kota\""
   ]
  },
  {
   "cell_type": "code",
   "execution_count": 8,
   "id": "74ddbdff-2a55-4511-bb03-89a32130107d",
   "metadata": {},
   "outputs": [
    {
     "data": {
      "text/plain": [
       "'ala ma kotai wszy i wszy'"
      ]
     },
     "execution_count": 8,
     "metadata": {},
     "output_type": "execute_result"
    }
   ],
   "source": [
    "sentence"
   ]
  },
  {
   "cell_type": "code",
   "execution_count": 7,
   "id": "2ebe69c0-e35f-4d12-bc93-7aa5becebc61",
   "metadata": {},
   "outputs": [],
   "source": [
    "sentence += \" i wszy\""
   ]
  },
  {
   "cell_type": "code",
   "execution_count": 13,
   "id": "3bde9f5d-b227-42ae-b5f1-d4df1dc946ad",
   "metadata": {},
   "outputs": [
    {
     "data": {
      "text/plain": [
       "'ala ma kotai wszy i wszy'"
      ]
     },
     "execution_count": 13,
     "metadata": {},
     "output_type": "execute_result"
    }
   ],
   "source": [
    "sentence"
   ]
  },
  {
   "cell_type": "code",
   "execution_count": 9,
   "id": "827ec3df-f789-44ff-98e8-2cb7028b0301",
   "metadata": {},
   "outputs": [],
   "source": [
    "def full_sentence(age):\n",
    "    def inner(name):\n",
    "        return f'Mam na imię {name} i mam {age} lat.'\n",
    "    return inner"
   ]
  },
  {
   "cell_type": "code",
   "execution_count": 10,
   "id": "f9338174-40b5-4a67-a2b4-9320592468cf",
   "metadata": {},
   "outputs": [],
   "source": [
    "magic = full_sentence(37)"
   ]
  },
  {
   "cell_type": "markdown",
   "id": "c9ad5233-0f25-4a12-97ef-8ccd6637e8ba",
   "metadata": {},
   "source": [
    "## Closure\n",
    "\n",
    "### Warunki:\n",
    "- muszą być minimum dwie funkcje\n",
    "- funkcja outer musi zwracać deklarację funkcji inner\n",
    "- funkcja inner musi używać czegiś z funkcji outer (zmiennej, parametru, klasy, deklaracji funkcji)\n",
    " \n",
    " ### Zalety:\n",
    " - persystencja (trwałość)\n",
    " \n",
    " ### Wady:\n",
    " - memory leaks (wycieki pamięci, bo garbage collector tego nie usunie)\n",
    " \n",
    " ---\n",
    " \n",
    " ### LEGB sposób przeszukiwania zasięgów przez pythona scope\n",
    " - L - local - tworzony przez funkcję\n",
    " - E - enclosing - tworzony przez closure (czyli obiekt funkcji?)\n",
    " - G - global - module (plik)\n",
    " - B - build-in - wbudowany w pythona, str, len, int, print\n",
    " \n",
    " "
   ]
  },
  {
   "cell_type": "code",
   "execution_count": 17,
   "id": "175580ea-d1c3-4250-be02-f982af6ca73d",
   "metadata": {},
   "outputs": [],
   "source": [
    "# uuid - universal unique id\n",
    "# LHS i RHS - left hand side assignment i right hand side assignment\n",
    "\n",
    "def gen_id():\n",
    "    idx = 0 \n",
    "    \n",
    "    def next():\n",
    "        nonlocal idx\n",
    "        result = idx\n",
    "        idx += 1\n",
    "        \n",
    "        return result\n",
    "    \n",
    "    return next\n",
    "    \n"
   ]
  },
  {
   "cell_type": "code",
   "execution_count": 18,
   "id": "c689712b-5b9b-44e3-a5c0-03aacf4fdd44",
   "metadata": {},
   "outputs": [],
   "source": [
    "uuid = gen_id()"
   ]
  },
  {
   "cell_type": "code",
   "execution_count": 19,
   "id": "3e9e6a0d-b0d0-4f24-ada4-e83d13ef7a97",
   "metadata": {},
   "outputs": [
    {
     "data": {
      "text/plain": [
       "0"
      ]
     },
     "execution_count": 19,
     "metadata": {},
     "output_type": "execute_result"
    }
   ],
   "source": [
    "uuid()"
   ]
  },
  {
   "cell_type": "code",
   "execution_count": 20,
   "id": "86712101-dd02-4575-bb4c-d1be4ec126d2",
   "metadata": {},
   "outputs": [
    {
     "data": {
      "text/plain": [
       "1"
      ]
     },
     "execution_count": 20,
     "metadata": {},
     "output_type": "execute_result"
    }
   ],
   "source": [
    "uuid()"
   ]
  },
  {
   "cell_type": "code",
   "execution_count": 21,
   "id": "9b104ebf-8e61-4ebe-b733-d84c9215bf29",
   "metadata": {},
   "outputs": [
    {
     "data": {
      "text/plain": [
       "2"
      ]
     },
     "execution_count": 21,
     "metadata": {},
     "output_type": "execute_result"
    }
   ],
   "source": [
    "uuid()"
   ]
  },
  {
   "cell_type": "code",
   "execution_count": null,
   "id": "967de8f3-d737-43e1-a16e-4d222b6ef16e",
   "metadata": {},
   "outputs": [],
   "source": []
  }
 ],
 "metadata": {
  "kernelspec": {
   "display_name": "Python 3 (ipykernel)",
   "language": "python",
   "name": "python3"
  },
  "language_info": {
   "codemirror_mode": {
    "name": "ipython",
    "version": 3
   },
   "file_extension": ".py",
   "mimetype": "text/x-python",
   "name": "python",
   "nbconvert_exporter": "python",
   "pygments_lexer": "ipython3",
   "version": "3.8.10"
  }
 },
 "nbformat": 4,
 "nbformat_minor": 5
}
